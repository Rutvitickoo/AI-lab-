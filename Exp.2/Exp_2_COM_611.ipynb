{
  "nbformat": 4,
  "nbformat_minor": 0,
  "metadata": {
    "colab": {
      "provenance": []
    },
    "kernelspec": {
      "name": "python3",
      "display_name": "Python 3"
    },
    "language_info": {
      "name": "python"
    }
  },
  "cells": [
    {
      "cell_type": "code",
      "execution_count": null,
      "metadata": {
        "id": "lD2oiaIXbzwX"
      },
      "outputs": [],
      "source": [
        " import numpy as np\n",
        " import pandas as pd"
      ]
    },
    {
      "cell_type": "code",
      "source": [
        "#loading data from csv file\n",
        "data=pd.DataFrame(pd.read_csv('Lab1.csv'))\n",
        "print(data)"
      ],
      "metadata": {
        "colab": {
          "base_uri": "https://localhost:8080/"
        },
        "id": "hZBhBknGi34a",
        "outputId": "eaa90435-b1c5-477f-9ec8-3751841603ed"
      },
      "execution_count": null,
      "outputs": [
        {
          "output_type": "stream",
          "name": "stdout",
          "text": [
            "   Sunny  Warm Normal  Strong Warm.1    Same  Yes\n",
            "0  Sunny  Warm   High  Strong   Warm    Same  Yes\n",
            "1  Rainy  Cold   High  Strong   Warm  Change   No\n",
            "2  Sunny  Warm   High  Strong   Cool  Change  Yes\n"
          ]
        }
      ]
    },
    {
      "cell_type": "code",
      "source": [
        "#Separating concept features from Target\n",
        "concepts=np.array(data.iloc[:,0:-1])\n",
        "print(concepts)"
      ],
      "metadata": {
        "colab": {
          "base_uri": "https://localhost:8080/"
        },
        "id": "0vtqs45GkSjM",
        "outputId": "e3cb1d04-cc91-45c5-eae5-0d040a91f265"
      },
      "execution_count": null,
      "outputs": [
        {
          "output_type": "stream",
          "name": "stdout",
          "text": [
            "[['Sunny' 'Warm' 'High' 'Strong' 'Warm' 'Same']\n",
            " ['Rainy' 'Cold' 'High' 'Strong' 'Warm' 'Change']\n",
            " ['Sunny' 'Warm' 'High' 'Strong' 'Cool' 'Change']]\n"
          ]
        }
      ]
    },
    {
      "cell_type": "code",
      "source": [
        "#Isolating target intoma separate DataFrame\n",
        "#copying last column to target array\n",
        "target=np.array(data.iloc[:,-1])\n",
        "print(target)"
      ],
      "metadata": {
        "colab": {
          "base_uri": "https://localhost:8080/"
        },
        "id": "TOeEAVcMkyDG",
        "outputId": "1864a910-729b-40ea-d862-6d4e8109f0c6"
      },
      "execution_count": null,
      "outputs": [
        {
          "output_type": "stream",
          "name": "stdout",
          "text": [
            "['Yes' 'No' 'Yes']\n"
          ]
        }
      ]
    },
    {
      "cell_type": "code",
      "source": [
        "def learn(concepts,target):\n",
        "  #.copy makes sure a new list is created instead of just pointing to the\n",
        "    specific_h=concepts[0].copy()\n",
        "    print(\"initialization of specific_h and general_h\")\n",
        "    print(specific_h)\n",
        "\n",
        "    general_h=[[[\"?\" for i in range (len(specific_h))]] for i in range(len(specific_h))]\n",
        "    print(general_h)\n",
        "    #The learning iterations\n",
        "    for i,h in enumerate(concepts):\n",
        "        #checking if the hypothesis has a positive target\n",
        "        if target[i]==\"yes\":\n",
        "            for x in range(len(specific_h)):\n",
        "              #change values in S and G only if values change\n",
        "              if h[x]!=specific_h[x]:\n",
        "                specific_h[x]='?'\n",
        "                general_h[x][x]='?'\n"
      ],
      "metadata": {
        "id": "gUV8WJgolCcR"
      },
      "execution_count": null,
      "outputs": []
    },
    {
      "cell_type": "code",
      "source": [],
      "metadata": {
        "id": "JORgXM2YqRxW"
      },
      "execution_count": null,
      "outputs": []
    }
  ]
}